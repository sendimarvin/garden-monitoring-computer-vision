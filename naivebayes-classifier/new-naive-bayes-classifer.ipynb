{
 "cells": [
  {
   "cell_type": "markdown",
   "id": "a530555a",
   "metadata": {},
   "source": [
    "# Naive Bayes Image Classifier"
   ]
  },
  {
   "cell_type": "markdown",
   "id": "e2ce9a20",
   "metadata": {},
   "source": [
    "## Import Libraries"
   ]
  },
  {
   "cell_type": "code",
   "execution_count": 36,
   "id": "37083775",
   "metadata": {},
   "outputs": [],
   "source": [
    "import os\n",
    "import numpy as np\n",
    "from PIL import Image\n",
    "from sklearn.naive_bayes import GaussianNB\n",
    "from sklearn.metrics import classification_report, accuracy_score\n",
    "from sklearn.model_selection import train_test_split"
   ]
  },
  {
   "cell_type": "markdown",
   "id": "ffb07ca9",
   "metadata": {},
   "source": [
    "## Data Preprocessing"
   ]
  },
  {
   "cell_type": "code",
   "execution_count": 37,
   "id": "3197df99",
   "metadata": {},
   "outputs": [],
   "source": [
    "# Set the path to the image folders\n",
    "folder_path = '../deeplearning-model/data/known_images/'\n",
    "\n",
    "# Set the target image size\n",
    "target_size = (256, 256)  # Adjust this as needed\n",
    "\n",
    "# Load the image data and labels\n",
    "X = []\n",
    "y = []\n",
    "class_labels = ['cassava', 'maize', 'banana', 'weed']\n",
    "for label in class_labels:\n",
    "    folder = os.path.join(folder_path, label)\n",
    "    images = os.listdir(folder)\n",
    "    for image_file in images:\n",
    "        img_path = os.path.join(folder, image_file)\n",
    "        img = Image.open(img_path)\n",
    "        img = img.convert('RGB')  # Convert to RGB if needed\n",
    "        img = img.resize(target_size)  # Resize the image\n",
    "        img_array = np.array(img)\n",
    "        flatten_img_array = img_array.flatten()\n",
    "        X.append(flatten_img_array)  # Flatten the image to a 1D vector\n",
    "        y.append(label)\n",
    "\n",
    "# Convert data to NumPy arrays\n",
    "X = np.array(X)\n",
    "y = np.array(y)"
   ]
  },
  {
   "cell_type": "code",
   "execution_count": 38,
   "id": "88d8cbb6",
   "metadata": {},
   "outputs": [
    {
     "name": "stdout",
     "output_type": "stream",
     "text": [
      "(133, 196608)\n"
     ]
    }
   ],
   "source": [
    "print(X.shape)"
   ]
  },
  {
   "cell_type": "code",
   "execution_count": 39,
   "id": "88596795",
   "metadata": {},
   "outputs": [],
   "source": [
    "\n",
    "# Split the data into training and testing sets\n",
    "X_train, X_test, y_train, y_test = train_test_split(X, y, test_size=0.2, random_state=42)\n",
    "\n",
    "# Train the Naive Bayes classifier\n",
    "model = GaussianNB()\n",
    "model.fit(X_train.reshape(X_train.shape[0], -1), y_train)\n",
    "\n",
    "# Predict the labels for the test set\n",
    "y_pred = model.predict(X_test.reshape(X_test.shape[0], -1))\n",
    "\n"
   ]
  },
  {
   "cell_type": "markdown",
   "id": "2a4578a6",
   "metadata": {},
   "source": [
    "## Evaluate Model"
   ]
  },
  {
   "cell_type": "code",
   "execution_count": 40,
   "id": "50b1d4d2",
   "metadata": {},
   "outputs": [
    {
     "name": "stdout",
     "output_type": "stream",
     "text": [
      "Accuracy: 0.7777777777777778\n",
      "Classification Report:\n",
      "              precision    recall  f1-score   support\n",
      "\n",
      "      banana       0.40      1.00      0.57         2\n",
      "     cassava       0.92      0.80      0.86        15\n",
      "       maize       0.75      0.86      0.80         7\n",
      "        weed       1.00      0.33      0.50         3\n",
      "\n",
      "    accuracy                           0.78        27\n",
      "   macro avg       0.77      0.75      0.68        27\n",
      "weighted avg       0.85      0.78      0.78        27\n",
      "\n"
     ]
    }
   ],
   "source": [
    "# Evaluate the model\n",
    "accuracy = accuracy_score(y_test, y_pred)\n",
    "classification_report = classification_report(y_test, y_pred)\n",
    "\n",
    "# Print the results\n",
    "print(\"Accuracy:\", accuracy)\n",
    "print(\"Classification Report:\")\n",
    "print(classification_report)"
   ]
  },
  {
   "cell_type": "code",
   "execution_count": null,
   "id": "6417cb0c",
   "metadata": {},
   "outputs": [],
   "source": []
  }
 ],
 "metadata": {
  "kernelspec": {
   "display_name": "Python 3 (ipykernel)",
   "language": "python",
   "name": "python3"
  },
  "language_info": {
   "codemirror_mode": {
    "name": "ipython",
    "version": 3
   },
   "file_extension": ".py",
   "mimetype": "text/x-python",
   "name": "python",
   "nbconvert_exporter": "python",
   "pygments_lexer": "ipython3",
   "version": "3.8.0"
  }
 },
 "nbformat": 4,
 "nbformat_minor": 5
}
