{
 "cells": [
  {
   "cell_type": "markdown",
   "id": "d0f21f95",
   "metadata": {},
   "source": [
    "# Naive Bayes Image Classifier"
   ]
  },
  {
   "cell_type": "markdown",
   "id": "fa3db2de",
   "metadata": {},
   "source": [
    "## Import Libraries"
   ]
  },
  {
   "cell_type": "code",
   "execution_count": 1,
   "id": "df4179d1",
   "metadata": {},
   "outputs": [],
   "source": [
    "import os\n",
    "import numpy as np\n",
    "from PIL import Image\n",
    "from sklearn.naive_bayes import GaussianNB\n",
    "from sklearn.metrics import classification_report, accuracy_score\n",
    "from sklearn.model_selection import train_test_split\n",
    "from skimage.color import rgb2gray\n",
    "from skimage.filters import sobel\n",
    "from skimage import exposure\n",
    "from skimage.feature import graycomatrix, graycoprops\n",
    "import matplotlib.pyplot as plt\n",
    "from scipy.ndimage import shift\n",
    "\n",
    "def pad_array(arr, n):\n",
    "    #if len(arr) >= n:\n",
    "        #return arr[:n]  # Trim the array if it's longer than n\n",
    "    #else:\n",
    "    pad_width = (0, n - len(arr))  # Calculate the padding width\n",
    "    return np.pad(arr, pad_width, mode='constant', constant_values=0)\n",
    "\n",
    "def extract_features(image, output_folder, file_name):\n",
    "    # Convert the image to grayscale\n",
    "    gray_image = rgb2gray(image)\n",
    "    \n",
    "    # Convert the image to unsigned integer type\n",
    "    gray_image = (gray_image * 255).astype(np.uint8)\n",
    "    \n",
    "    # Save the grayscale image\n",
    "    grayscale_path = os.path.join(output_folder, file_name+'grayscale.png')\n",
    "    plt.imsave(grayscale_path, gray_image, cmap='gray')\n",
    "    \n",
    "    # Extract edge features using Sobel filter\n",
    "    edge_features = sobel(gray_image)\n",
    "    \n",
    "    # Save the edge features image\n",
    "    edge_path = os.path.join(output_folder, file_name+'edge_features.png')\n",
    "    plt.imsave(edge_path, edge_features, cmap='gray')\n",
    "    \n",
    "    # Calculate histogram features\n",
    "    hist, _ = exposure.histogram(gray_image, nbins=256)\n",
    "    \n",
    "    # Calculate texture features using GLCM (Grey-Level Co-occurrence Matrix)\n",
    "    glcm = graycomatrix(gray_image, [5], [0], 256, symmetric=True, normed=True)\n",
    "    contrast = graycoprops(glcm, 'contrast')[0, 0]\n",
    "    energy = graycoprops(glcm, 'energy')[0, 0]\n",
    "    correlation = graycoprops(glcm, 'correlation')[0, 0]\n",
    "\n",
    "    # Save the histogram features plot\n",
    "    hist_path = os.path.join(output_folder, file_name+'histogram.png')\n",
    "    plt.plot(hist)\n",
    "    plt.xlabel('Intensity')\n",
    "    plt.ylabel('Frequency')\n",
    "    plt.savefig(hist_path)\n",
    "    plt.close()\n",
    "    \n",
    "    # Extract shift features\n",
    "    shifted_image_1 = shift(gray_image, (10, 10))\n",
    "    shifted_image_2 = shift(gray_image, (-10, -10))\n",
    "\n",
    "    # Save the shifted images\n",
    "#     shifted_image_1_path = os.path.join(output_folder, file_name+'shifted_image_1.png')\n",
    "#     shifted_image_2_path = os.path.join(output_folder, file_name+'shifted_image_2.png')\n",
    "#     plt.imsave(shifted_image_1_path, shifted_image_1, cmap='gray')\n",
    "#     plt.imsave(shifted_image_2_path, shifted_image_2, cmap='gray')\n",
    "    \n",
    "    # Concatenate all features into a single feature vector\n",
    "    features = np.concatenate([edge_features.flatten(), hist, [contrast, energy, correlation]])\n",
    "    \n",
    "    return features"
   ]
  },
  {
   "cell_type": "markdown",
   "id": "306e16f3",
   "metadata": {},
   "source": [
    "## Data Preprocessing"
   ]
  },
  {
   "cell_type": "code",
   "execution_count": 2,
   "id": "96d0ec13",
   "metadata": {},
   "outputs": [],
   "source": [
    "# Set the path to the image folders\n",
    "folder_path = '../deeplearning-model/data/known_images/'\n",
    "output_folder = '../deeplearning-model/data/known_images_out/'\n",
    "\n",
    "# Set the target image size\n",
    "target_size = (256, 256)  # Adjust this as needed\n",
    "\n",
    "# Load the image data and labels\n",
    "X = []\n",
    "y = []\n",
    "class_labels = ['cassava', 'maize', 'banana', 'weed']\n",
    "#class_labels=['x']\n",
    "for label in class_labels:\n",
    "    folder = os.path.join(folder_path, label)\n",
    "    images = os.listdir(folder)\n",
    "    for image_file in images:\n",
    "        img_path = os.path.join(folder, image_file)\n",
    "        img = Image.open(img_path)\n",
    "        img = img.convert('RGB')  # Convert to RGB if needed\n",
    "        img = img.resize(target_size)  # Resize the image\n",
    "        \n",
    "        # Extract the features from the image\n",
    "        img_features = extract_features(np.array(img), output_folder, label+image_file)\n",
    "        flattened_img_features = pad_array(img_features.flatten(), 70000)\n",
    "        \n",
    "        #print(len(flattened_img_features))\n",
    "        \n",
    "        #img_array = np.array(img)\n",
    "        #X.append(img_array.flatten())  # Flatten the image to a 1D vector\n",
    "        X.append(flattened_img_features)\n",
    "        y.append(label)\n",
    "        #break\n",
    "    #break\n",
    "\n",
    "# Convert data to NumPy arrays\n",
    "X = np.array(X)\n",
    "y = np.array(y)"
   ]
  },
  {
   "cell_type": "code",
   "execution_count": 5,
   "id": "8009166f",
   "metadata": {},
   "outputs": [
    {
     "name": "stdout",
     "output_type": "stream",
     "text": [
      "(133, 70000)\n"
     ]
    }
   ],
   "source": [
    "print(X.shape)"
   ]
  },
  {
   "cell_type": "code",
   "execution_count": 203,
   "id": "7c55e5ca",
   "metadata": {},
   "outputs": [],
   "source": [
    "\n",
    "# Split the data into training and testing sets\n",
    "X_train, X_test, y_train, y_test = train_test_split(X, y, test_size=0.2, random_state=42)\n",
    "\n",
    "# Train the Naive Bayes classifier\n",
    "model = GaussianNB()\n",
    "model.fit(X_train.reshape(X_train.shape[0], -1), y_train)\n",
    "#model.fit(X_train, y_train)\n",
    "\n",
    "# Predict the labels for the test set\n",
    "y_pred = model.predict(X_test.reshape(X_test.shape[0], -1))\n",
    "#y_pred = model.predict(X_test)\n",
    "\n"
   ]
  },
  {
   "cell_type": "markdown",
   "id": "eba885a2",
   "metadata": {},
   "source": [
    "## Evaluate Model"
   ]
  },
  {
   "cell_type": "code",
   "execution_count": 204,
   "id": "c231a146",
   "metadata": {},
   "outputs": [
    {
     "name": "stdout",
     "output_type": "stream",
     "text": [
      "Accuracy: 0.7037037037037037\n",
      "Classification Report:\n",
      "              precision    recall  f1-score   support\n",
      "\n",
      "      banana       1.00      0.00      0.00         2\n",
      "     cassava       0.70      0.93      0.80        15\n",
      "       maize       0.80      0.57      0.67         7\n",
      "        weed       0.50      0.33      0.40         3\n",
      "\n",
      "    accuracy                           0.70        27\n",
      "   macro avg       0.75      0.46      0.47        27\n",
      "weighted avg       0.73      0.70      0.66        27\n",
      "\n"
     ]
    }
   ],
   "source": [
    "# Evaluate the model\n",
    "accuracy = accuracy_score(y_test, y_pred)\n",
    "classification_report = classification_report(y_test, y_pred, zero_division=1)\n",
    "\n",
    "# Print the results\n",
    "print(\"Accuracy:\", accuracy)\n",
    "print(\"Classification Report:\")\n",
    "print(classification_report)"
   ]
  },
  {
   "cell_type": "code",
   "execution_count": null,
   "id": "faae71a4",
   "metadata": {},
   "outputs": [],
   "source": []
  },
  {
   "cell_type": "code",
   "execution_count": null,
   "id": "42e9ff93",
   "metadata": {},
   "outputs": [],
   "source": []
  }
 ],
 "metadata": {
  "kernelspec": {
   "display_name": "Python 3 (ipykernel)",
   "language": "python",
   "name": "python3"
  },
  "language_info": {
   "codemirror_mode": {
    "name": "ipython",
    "version": 3
   },
   "file_extension": ".py",
   "mimetype": "text/x-python",
   "name": "python",
   "nbconvert_exporter": "python",
   "pygments_lexer": "ipython3",
   "version": "3.8.0"
  }
 },
 "nbformat": 4,
 "nbformat_minor": 5
}
